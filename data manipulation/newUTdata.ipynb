{
 "cells": [
  {
   "cell_type": "code",
   "execution_count": 1,
   "metadata": {},
   "outputs": [],
   "source": [
    "import pandas as pd\n",
    "import numpy as np\n"
   ]
  },
  {
   "cell_type": "code",
   "execution_count": 11,
   "metadata": {},
   "outputs": [
    {
     "data": {
      "text/plain": [
       "TERM             30\n",
       "YEAR             10\n",
       "SEMSTR            3\n",
       "INSTRUCTOR    11488\n",
       "COURSE         6863\n",
       "UNIQUE        24030\n",
       "DEPARTMENT      117\n",
       "FORM             54\n",
       "M                 3\n",
       "RESP            420\n",
       "ENRL            567\n",
       "VU               46\n",
       "U                66\n",
       "S               132\n",
       "VG              173\n",
       "EX              296\n",
       "SUM             427\n",
       "MEAN           2461\n",
       "VU               51\n",
       "U                73\n",
       "S               164\n",
       "VG              177\n",
       "EX              252\n",
       "SUM             425\n",
       "MEAN           2517\n",
       "dtype: int64"
      ]
     },
     "execution_count": 11,
     "metadata": {},
     "output_type": "execute_result"
    }
   ],
   "source": [
    "df = pd.read_csv('C:\\\\Users\\\\Brendan\\\\Desktop\\\\scraper extension\\\\new UT data\\\\ut-foia.csv',low_memory=False)\n",
    "df.rename(columns=df.iloc[0], inplace=True)\n",
    "df.drop(df.index[0], inplace=True)\n",
    "\n",
    "df.nunique()"
   ]
  }
 ],
 "metadata": {
  "interpreter": {
   "hash": "b1c77693401acacf8514caa54e61c2fc37284d431992bf60671775e5dab4ab60"
  },
  "kernelspec": {
   "display_name": "Python 3.8.5 ('base')",
   "language": "python",
   "name": "python3"
  },
  "language_info": {
   "codemirror_mode": {
    "name": "ipython",
    "version": 3
   },
   "file_extension": ".py",
   "mimetype": "text/x-python",
   "name": "python",
   "nbconvert_exporter": "python",
   "pygments_lexer": "ipython3",
   "version": "3.8.5"
  },
  "orig_nbformat": 4
 },
 "nbformat": 4,
 "nbformat_minor": 2
}
