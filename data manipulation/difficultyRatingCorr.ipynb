{
 "cells": [
  {
   "cell_type": "code",
   "execution_count": 173,
   "metadata": {},
   "outputs": [],
   "source": [
    "import os, json\n",
    "import pandas as pd\n",
    "path_to_json  = 'C:/Users/Brendan/Desktop/scraper extension/reportjsons/'\n",
    "\n",
    "json_files = [pos_json for pos_json in os.listdir(path_to_json) if pos_json.endswith('.json')]\n"
   ]
  },
  {
   "cell_type": "code",
   "execution_count": 181,
   "metadata": {},
   "outputs": [
    {
     "name": "stdout",
     "output_type": "stream",
     "text": [
      "4.9\n",
      "4.4\n",
      "4.4\n"
     ]
    }
   ],
   "source": [
    "for index, js in enumerate(json_files[:1]):\n",
    "    with open(os.path.join(path_to_json, js)) as json_file:\n",
    "        json_text = json.load(json_file)\n",
    "        valueableAvg = json_text[1]['At this point in time, I feel that this course will be (or has already been) of value to me.']['Average']\n",
    "        organizedAvg = json_text[1]['The course was well organized.']['Average']\n",
    "        communicatedAvg = json_text[1]['The instructor communicated information effectively.']['Average']\n",
    "        openMindAvg = json_text[1]['The instructor made me feel free to ask questions, disagree, and express my ideas.']['Average']\n",
    "        interestedAvg = json_text[1]['The instructor showed interest in the progress of students.']['Average']\n",
    "        quickGraderAvg = json_text[1]['The tests/assignments were usually graded and returned promptly.']['Average']\n",
    "\n",
    "    print(valueableAvg)\n",
    "    print(organizedAvg)\n",
    "    print(organizedAvg)\n"
   ]
  },
  {
   "cell_type": "code",
   "execution_count": 170,
   "metadata": {},
   "outputs": [
    {
     "name": "stdout",
     "output_type": "stream",
     "text": [
      "4.4\n"
     ]
    }
   ],
   "source": [
    "valueableAvg = json_text[1]['At this point in time, I feel that this course will be (or has already been) of value to me.']['Average']\n",
    "organizedAvg = json_text[1]['The course was well organized.']['Average']\n",
    "communicatedAvg = json_text[1]['The instructor communicated information effectively.']['Average']\n",
    "openMindAvg = json_text[1]['The instructor made me feel free to ask questions, disagree, and express my ideas.']['Average']\n",
    "interestedAvg = json_text[1]['The instructor showed interest in the progress of students.']['Average']\n",
    "quickGraderAvg = json_text[1]['The tests/assignments were usually graded and returned promptly.']['Average']\n",
    "\n",
    "print(organizedAvg)"
   ]
  },
  {
   "cell_type": "code",
   "execution_count": 195,
   "metadata": {},
   "outputs": [],
   "source": [
    "courseScoreLst = []\n",
    "deptCourseAvgLst =[]\n",
    "\n",
    "instructorScoreLst = []\n",
    "deptInstAvgLst = []\n",
    "\n",
    "pctHardLst = []\n",
    "pctExcessiveLst = []\n",
    "pctLightLst = []\n",
    "pctEasyLst = []\n",
    "\n",
    "valueableAvgLst = []\n",
    "organizedAvgLst = []\n",
    "communicatedAvgLst = []\n",
    "openMindAvgLst = []\n",
    "interestedAvgLst = []\n",
    "quickGraderAvgLst = []\n",
    "\n",
    "for index, js in enumerate(json_files):\n",
    "    with open(os.path.join(path_to_json, js)) as json_file:\n",
    "        json_text = json.load(json_file)\n",
    "\n",
    "        try:courseScore = (json_text[2]['Overall, this course was']['Average'])\n",
    "        except:continue\n",
    "        deptCourseAvg = json_text[2]['Overall, this course was']['College/School Average']\n",
    "\n",
    "        instructorScore = (json_text[2]['Overall, this instructor was']['Average'])\n",
    "        deptInstAvg =  (json_text[2]['Overall, this instructor was']['College/School Average'])\n",
    "        \n",
    "        excessiveHard = int(json_text[3]['In my opinion, the workload in this course was']['Excessive'])\n",
    "        highHard = int(json_text[3]['In my opinion, the workload in this course was']['High'])\n",
    "        \n",
    "        numLight = int(json_text[3]['In my opinion, the workload in this course was']['Light'])\n",
    "        numInsufficient = int(json_text[3]['In my opinion, the workload in this course was']['Insufficient'])\n",
    "        numRespondents = int(json_text[3]['In my opinion, the workload in this course was']['Number of respondents'])\n",
    "        \n",
    "        try:valueableAvg = json_text[1]['At this point in time, I feel that this course will be (or has already been) of value to me.']['Average']\n",
    "        except:valueableAvg = None\n",
    "        \n",
    "        organizedAvg = json_text[1]['The course was well organized.']['Average']\n",
    "        communicatedAvg = json_text[1]['The instructor communicated information effectively.']['Average']\n",
    "        openMindAvg = json_text[1]['The instructor made me feel free to ask questions, disagree, and express my ideas.']['Average']\n",
    "        interestedAvg = json_text[1]['The instructor showed interest in the progress of students.']['Average']\n",
    "        quickGraderAvg = json_text[1]['The tests/assignments were usually graded and returned promptly.']['Average']\n",
    "\n",
    "\n",
    "\n",
    "        if numRespondents != 0:\n",
    "            pctHard = (excessiveHard + highHard) / numRespondents\n",
    "            pctExcessive =  (excessiveHard / numRespondents)\n",
    "            pctLight = (numLight) / (numRespondents)\n",
    "            pctEasy = (numLight + numInsufficient) / numRespondents\n",
    "        else:\n",
    "            pctHard = None\n",
    "            pctExcessive = None\n",
    "            pctLight = None\n",
    "            pctInsufficient = None\n",
    "            pctEasy = None\n",
    "\n",
    "        valueableAvgLst.append(valueableAvg)\n",
    "        organizedAvgLst.append(organizedAvg)\n",
    "        communicatedAvgLst.append(communicatedAvg)\n",
    "        openMindAvgLst.append(openMindAvg)\n",
    "        interestedAvgLst.append(interestedAvg)\n",
    "        quickGraderAvgLst.append(quickGraderAvg)\n",
    "            \n",
    "        pctHardLst.append((pctHard))\n",
    "        pctExcessiveLst.append((pctExcessive))\n",
    "        pctLightLst.append(((pctLight)))\n",
    "        pctEasyLst.append(pctEasy)\n",
    "        courseScoreLst.append(float(courseScore))\n",
    "\n",
    "        \n",
    "\n",
    "\n",
    "        instructorScoreLst.append(float(instructorScore))\n",
    "    \n",
    "\n",
    "        # here you need to know the layout of your json and each json has to have\n",
    "        # the same structure (obviously not the structure I have here)\n",
    "    \n"
   ]
  },
  {
   "cell_type": "code",
   "execution_count": 225,
   "metadata": {},
   "outputs": [],
   "source": [
    "\n",
    "d = {'Course Avg Score':courseScoreLst,\n",
    " 'Instructor Avg Score':instructorScoreLst,\n",
    "  'Difficult Pct':pctHardLst, \n",
    "  'Excessive Pct':pctExcessiveLst, \n",
    "  'Easy Pct':pctEasyLst,\n",
    "  'Light Pct':pctLightLst,\n",
    "  'Valueable Avg':valueableAvgLst,\n",
    "  'Organized Avg':organizedAvgLst,\n",
    "  'Communicated Avg':communicatedAvgLst,\n",
    "  'Open-mind Avg':openMindAvgLst,\n",
    "  'Interested Avg':interestedAvgLst,\n",
    "  'Quick-Grader Avg':quickGraderAvg}\n",
    "df = pd.DataFrame(data=d)\n",
    "df.dropna(inplace=True)\n",
    "\n",
    "headers = ['Valueable Avg','Organized Avg','Communicated Avg','Open-mind Avg','Interested Avg','Quick-Grader Avg']\n",
    "for header in headers:\n",
    "  df[header] = pd.to_numeric(df[header], downcast='float')"
   ]
  },
  {
   "cell_type": "code",
   "execution_count": 227,
   "metadata": {},
   "outputs": [
    {
     "name": "stdout",
     "output_type": "stream",
     "text": [
      "-0.12377963896289357\n",
      "-0.16903194201080515\n",
      "-0.038801912294024646\n"
     ]
    }
   ],
   "source": [
    "print(df['Instructor Avg Score'].corr(df['Difficult Pct']))\n",
    "print(df['Course Avg Score'].corr(df['Difficult Pct']))\n",
    "\n",
    "print(df['Instructor Avg Score'].corr(df['Easy Pct']))\n"
   ]
  },
  {
   "cell_type": "code",
   "execution_count": 228,
   "metadata": {},
   "outputs": [
    {
     "name": "stdout",
     "output_type": "stream",
     "text": [
      "-0.20493484341082926\n",
      "-0.26034318008205176\n"
     ]
    }
   ],
   "source": [
    "print(df['Instructor Avg Score'].corr(df['Excessive Pct']))\n",
    "print(df['Course Avg Score'].corr(df['Excessive Pct']))"
   ]
  },
  {
   "cell_type": "code",
   "execution_count": 232,
   "metadata": {},
   "outputs": [
    {
     "name": "stdout",
     "output_type": "stream",
     "text": [
      "Correlation between Course Avg Score and instructor score: 0.890\n",
      "Correlation between Instructor Avg Score and instructor score: 1.000\n",
      "Correlation between Difficult Pct and instructor score: -0.124\n",
      "Correlation between Excessive Pct and instructor score: -0.205\n",
      "Correlation between Easy Pct and instructor score: -0.039\n",
      "Correlation between Light Pct and instructor score: -0.044\n",
      "Correlation between Valueable Avg and instructor score: 0.830\n",
      "Correlation between Organized Avg and instructor score: 0.819\n",
      "Correlation between Communicated Avg and instructor score: 0.876\n",
      "Correlation between Open-mind Avg and instructor score: 0.802\n",
      "Correlation between Interested Avg and instructor score: 0.865\n",
      "Correlation between Quick-Grader Avg and instructor score: nan\n"
     ]
    }
   ],
   "source": [
    "headers = df.columns\n",
    "for header in headers:\n",
    "    corr = df['Instructor Avg Score'].corr(df[header])\n",
    "    print(f'Correlation between {header} and instructor score: {corr:.3f}')"
   ]
  }
 ],
 "metadata": {
  "interpreter": {
   "hash": "b1c77693401acacf8514caa54e61c2fc37284d431992bf60671775e5dab4ab60"
  },
  "kernelspec": {
   "display_name": "Python 3.8.5 64-bit ('base': conda)",
   "language": "python",
   "name": "python3"
  },
  "language_info": {
   "codemirror_mode": {
    "name": "ipython",
    "version": 3
   },
   "file_extension": ".py",
   "mimetype": "text/x-python",
   "name": "python",
   "nbconvert_exporter": "python",
   "pygments_lexer": "ipython3",
   "version": "3.8.5"
  },
  "orig_nbformat": 4
 },
 "nbformat": 4,
 "nbformat_minor": 2
}
